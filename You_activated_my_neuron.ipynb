{
  "nbformat": 4,
  "nbformat_minor": 0,
  "metadata": {
    "colab": {
      "name": "You activated my neuron",
      "provenance": [],
      "collapsed_sections": [],
      "include_colab_link": true
    },
    "kernelspec": {
      "name": "python3",
      "display_name": "Python 3"
    }
  },
  "cells": [
    {
      "cell_type": "markdown",
      "metadata": {
        "id": "view-in-github",
        "colab_type": "text"
      },
      "source": [
        "<a href=\"https://colab.research.google.com/github/islaterm/you-activated-my-neuron/blob/master/You_activated_my_neuron.ipynb\" target=\"_parent\"><img src=\"https://colab.research.google.com/assets/colab-badge.svg\" alt=\"Open In Colab\"/></a>"
      ]
    },
    {
      "cell_type": "markdown",
      "metadata": {
        "id": "iCszeuRk0NuH",
        "colab_type": "text"
      },
      "source": [
        "# Tarea 1: Activaciones y pasada hacia adelante en una red neuronal <br/> CC6204 Deep Learning, Universidad de Chile  <br/> Hoja de respuestas\n",
        "## Nombre: Ignacio Slater Muñoz\n",
        "Fecha de entrega: 2 de octubre de *2020*"
      ]
    },
    {
      "cell_type": "code",
      "metadata": {
        "id": "8QQB7jV7LMEo",
        "colab_type": "code",
        "colab": {
          "base_uri": "https://localhost:8080/",
          "height": 340
        },
        "outputId": "e940a9b9-006e-49e2-adfe-1662e841a12a"
      },
      "source": [
        "# Este notebook está pensado para correr en CoLaboratory. \n",
        "# Lo único imprescindible por importar es torch \n",
        "import torch\n",
        "\n",
        "# Posiblemenete quieras instalar e importar ipdb para debuggear.\n",
        "# Si es así, descomenta lo siguiente\n",
        "!pip install -q ipdb\n",
        "import ipdb\n",
        "\n",
        "# Aqui instalamos la libreria de correccion del curso\n",
        "!pip install \"git+https://github.com/dccuchile/CC6204.git@master#egg=cc6204&subdirectory=autocorrect\""
      ],
      "execution_count": null,
      "outputs": [
        {
          "output_type": "stream",
          "text": [
            "  Building wheel for ipdb (setup.py) ... \u001b[?25l\u001b[?25hdone\n",
            "Collecting cc6204\n",
            "  Cloning https://github.com/dccuchile/CC6204.git (to revision master) to /tmp/pip-install-brtiyw6g/cc6204\n",
            "  Running command git clone -q https://github.com/dccuchile/CC6204.git /tmp/pip-install-brtiyw6g/cc6204\n",
            "Requirement already satisfied: requests in /usr/local/lib/python3.6/dist-packages (from cc6204) (2.23.0)\n",
            "Requirement already satisfied: numpy in /usr/local/lib/python3.6/dist-packages (from cc6204) (1.18.5)\n",
            "Requirement already satisfied: torch in /usr/local/lib/python3.6/dist-packages (from cc6204) (1.6.0+cu101)\n",
            "Requirement already satisfied: urllib3!=1.25.0,!=1.25.1,<1.26,>=1.21.1 in /usr/local/lib/python3.6/dist-packages (from requests->cc6204) (1.24.3)\n",
            "Requirement already satisfied: chardet<4,>=3.0.2 in /usr/local/lib/python3.6/dist-packages (from requests->cc6204) (3.0.4)\n",
            "Requirement already satisfied: idna<3,>=2.5 in /usr/local/lib/python3.6/dist-packages (from requests->cc6204) (2.10)\n",
            "Requirement already satisfied: certifi>=2017.4.17 in /usr/local/lib/python3.6/dist-packages (from requests->cc6204) (2020.6.20)\n",
            "Requirement already satisfied: future in /usr/local/lib/python3.6/dist-packages (from torch->cc6204) (0.16.0)\n",
            "Building wheels for collected packages: cc6204\n",
            "  Building wheel for cc6204 (setup.py) ... \u001b[?25l\u001b[?25hdone\n",
            "  Created wheel for cc6204: filename=cc6204-0.2.0-cp36-none-any.whl size=4089 sha256=40b59291b18ea9d53fadb0290d243394b8c6e31b35fd79acdcfd128e9b32610a\n",
            "  Stored in directory: /tmp/pip-ephem-wheel-cache-eqqt1duq/wheels/62/f0/30/aadcb7ce24a2f9c935890518e902d4e23bf97b80f47bb64414\n",
            "Successfully built cc6204\n",
            "Installing collected packages: cc6204\n",
            "Successfully installed cc6204-0.2.0\n"
          ],
          "name": "stdout"
        }
      ]
    },
    {
      "cell_type": "code",
      "metadata": {
        "id": "49OevYJkMdgW",
        "colab_type": "code",
        "colab": {}
      },
      "source": [
        "# importamos las herramientas del curso\n",
        "from cc6204 import AutoCorrect, FailedTest\n",
        "\n",
        "# ingresa el host y port que posteamos en u-cursos\n",
        "\n",
        "# corrector = AutoCorrect(host=..., port=...)\n",
        "\n",
        "# anota el token que te daremos en u-cursos\n",
        "\n",
        "# token = ..."
      ],
      "execution_count": null,
      "outputs": []
    },
    {
      "cell_type": "markdown",
      "metadata": {
        "id": "Uq9u0IfT0VRp",
        "colab_type": "text"
      },
      "source": [
        "# Parte 1: Funciones de activación y función de salida"
      ]
    },
    {
      "cell_type": "markdown",
      "metadata": {
        "id": "DMw80P8o0qrJ",
        "colab_type": "text"
      },
      "source": [
        "## 1a) Funciones de activación"
      ]
    },
    {
      "cell_type": "code",
      "metadata": {
        "id": "tDhcNbNT0YNr",
        "colab_type": "code",
        "colab": {}
      },
      "source": [
        "from torch import Tensor\n",
        "def sig(T):\n",
        "    return torch.reciprocal(1 + torch.exp(-1 * T))\n",
        "\n",
        "def tanh(T):\n",
        "    E = torch.exp(T)\n",
        "    e = torch.exp(-1 * T)\n",
        "    return (E - e) * torch.reciprocal(E + e)\n",
        "\n",
        "def relu(tensor: Tensor):\n",
        "    \"\"\" Rectifier activation function.\n",
        "        The relu function of a tensor T is the element-wise max between 0 and the appropriate \n",
        "        element of T.\n",
        "    \"\"\"\n",
        "    return torch.max(tensor, torch.zeros_like(tensor))\n",
        "\n",
        "def swish(T, ):\n",
        "    pass\n",
        "\n",
        "def celu(T, ):\n",
        "    pass"
      ],
      "execution_count": null,
      "outputs": []
    },
    {
      "cell_type": "code",
      "metadata": {
        "id": "s0SmO2x7M1pn",
        "colab_type": "code",
        "colab": {
          "base_uri": "https://localhost:8080/",
          "height": 232
        },
        "outputId": "50ea7dbe-70c1-4155-8f3f-f9a52fc06a3d"
      },
      "source": [
        "# correccion\n",
        "test_relu = corrector.get_test_data(homework=1, question=\"1a\", test=1, token=token)\n",
        "test_swish, swish_par = corrector.get_test_data(homework=1, question=\"1a\", test=2, token=token)\n",
        "test_celu, celu_par = corrector.get_test_data(homework=1, question=\"1a\", test=3, token=token)\n",
        "\n",
        "# probablemente quieras convertr los variables test_* a un tensor, ya que por defecto son listas\n",
        "\n",
        "corrector.sumbit(homework=1, question=\"1a\", test=1, token=token, answer=relu(test_relu))\n",
        "corrector.sumbit(homework=1, question=\"1a\", test=2, token=token, answer=swish(test_swish, swish_par))\n",
        "corrector.sumbit(homework=1, question=\"1a\", test=3, token=token, answer=celu(test_celu, celu_par))"
      ],
      "execution_count": null,
      "outputs": [
        {
          "output_type": "error",
          "ename": "NameError",
          "evalue": "ignored",
          "traceback": [
            "\u001b[0;31m---------------------------------------------------------------------------\u001b[0m",
            "\u001b[0;31mNameError\u001b[0m                                 Traceback (most recent call last)",
            "\u001b[0;32m<ipython-input-4-66fac6e062c0>\u001b[0m in \u001b[0;36m<module>\u001b[0;34m()\u001b[0m\n\u001b[1;32m      1\u001b[0m \u001b[0;31m# correccion\u001b[0m\u001b[0;34m\u001b[0m\u001b[0;34m\u001b[0m\u001b[0;34m\u001b[0m\u001b[0m\n\u001b[0;32m----> 2\u001b[0;31m \u001b[0mtest_relu\u001b[0m \u001b[0;34m=\u001b[0m \u001b[0mcorrector\u001b[0m\u001b[0;34m.\u001b[0m\u001b[0mget_test_data\u001b[0m\u001b[0;34m(\u001b[0m\u001b[0mhomework\u001b[0m\u001b[0;34m=\u001b[0m\u001b[0;36m1\u001b[0m\u001b[0;34m,\u001b[0m \u001b[0mquestion\u001b[0m\u001b[0;34m=\u001b[0m\u001b[0;34m\"1a\"\u001b[0m\u001b[0;34m,\u001b[0m \u001b[0mtest\u001b[0m\u001b[0;34m=\u001b[0m\u001b[0;36m1\u001b[0m\u001b[0;34m,\u001b[0m \u001b[0mtoken\u001b[0m\u001b[0;34m=\u001b[0m\u001b[0mtoken\u001b[0m\u001b[0;34m)\u001b[0m\u001b[0;34m\u001b[0m\u001b[0;34m\u001b[0m\u001b[0m\n\u001b[0m\u001b[1;32m      3\u001b[0m \u001b[0mtest_swish\u001b[0m\u001b[0;34m,\u001b[0m \u001b[0mswish_par\u001b[0m \u001b[0;34m=\u001b[0m \u001b[0mcorrector\u001b[0m\u001b[0;34m.\u001b[0m\u001b[0mget_test_data\u001b[0m\u001b[0;34m(\u001b[0m\u001b[0mhomework\u001b[0m\u001b[0;34m=\u001b[0m\u001b[0;36m1\u001b[0m\u001b[0;34m,\u001b[0m \u001b[0mquestion\u001b[0m\u001b[0;34m=\u001b[0m\u001b[0;34m\"1a\"\u001b[0m\u001b[0;34m,\u001b[0m \u001b[0mtest\u001b[0m\u001b[0;34m=\u001b[0m\u001b[0;36m2\u001b[0m\u001b[0;34m,\u001b[0m \u001b[0mtoken\u001b[0m\u001b[0;34m=\u001b[0m\u001b[0mtoken\u001b[0m\u001b[0;34m)\u001b[0m\u001b[0;34m\u001b[0m\u001b[0;34m\u001b[0m\u001b[0m\n\u001b[1;32m      4\u001b[0m \u001b[0mtest_celu\u001b[0m\u001b[0;34m,\u001b[0m \u001b[0mcelu_par\u001b[0m \u001b[0;34m=\u001b[0m \u001b[0mcorrector\u001b[0m\u001b[0;34m.\u001b[0m\u001b[0mget_test_data\u001b[0m\u001b[0;34m(\u001b[0m\u001b[0mhomework\u001b[0m\u001b[0;34m=\u001b[0m\u001b[0;36m1\u001b[0m\u001b[0;34m,\u001b[0m \u001b[0mquestion\u001b[0m\u001b[0;34m=\u001b[0m\u001b[0;34m\"1a\"\u001b[0m\u001b[0;34m,\u001b[0m \u001b[0mtest\u001b[0m\u001b[0;34m=\u001b[0m\u001b[0;36m3\u001b[0m\u001b[0;34m,\u001b[0m \u001b[0mtoken\u001b[0m\u001b[0;34m=\u001b[0m\u001b[0mtoken\u001b[0m\u001b[0;34m)\u001b[0m\u001b[0;34m\u001b[0m\u001b[0;34m\u001b[0m\u001b[0m\n\u001b[1;32m      5\u001b[0m \u001b[0;34m\u001b[0m\u001b[0m\n",
            "\u001b[0;31mNameError\u001b[0m: name 'corrector' is not defined"
          ]
        }
      ]
    },
    {
      "cell_type": "markdown",
      "metadata": {
        "id": "e_0dTh7l1bas",
        "colab_type": "text"
      },
      "source": [
        "## 1b) Softmax"
      ]
    },
    {
      "cell_type": "markdown",
      "metadata": {
        "id": "NjIyp2nL1le5",
        "colab_type": "text"
      },
      "source": [
        "(La demostración puedes entregarla en otro archivo o incluirla directamente acá)"
      ]
    },
    {
      "cell_type": "code",
      "metadata": {
        "id": "jDg2sU7D1dIY",
        "colab_type": "code",
        "colab": {}
      },
      "source": [
        "# Tu código acá\n",
        "\n",
        "def softmax(T, dim, estable=True):\n",
        "  pass"
      ],
      "execution_count": null,
      "outputs": []
    },
    {
      "cell_type": "code",
      "metadata": {
        "id": "4nJhjuGZXgkM",
        "colab_type": "code",
        "colab": {}
      },
      "source": [
        "test_softmax, _dim = corrector.get_test_data(homework=1, question=\"1b\", test=1, token=token)\n",
        "corrector.sumbit(homework=1, question=\"1b\", test=1, token=token, answer=softmax(test_softmax, dim=_dim))"
      ],
      "execution_count": null,
      "outputs": []
    },
    {
      "cell_type": "markdown",
      "metadata": {
        "id": "662XLsDA9XXI",
        "colab_type": "text"
      },
      "source": [
        "# Parte 2: Red neuronal y pasada hacia adelante (forward)"
      ]
    },
    {
      "cell_type": "markdown",
      "metadata": {
        "id": "fTUm9ZbX9bRA",
        "colab_type": "text"
      },
      "source": [
        "## 2a) Clase para red neuronal, 2b) Iterando por parametros, 2d) Pasada hacia adelante"
      ]
    },
    {
      "cell_type": "code",
      "metadata": {
        "id": "f_jeuYbv9WhK",
        "colab_type": "code",
        "colab": {}
      },
      "source": [
        "# Tu código debiera continuar así \n",
        "\n",
        "class FFNN(torch.nn.Module):\n",
        "  def __init__(self, F, l_h, l_a, C):\n",
        "    super(FFNN, self).__init__()\n",
        "    pass\n",
        "  \n",
        "  def resumen(self):\n",
        "    # Usa self.parameters() o self.named_parameters().\n",
        "    pass\n",
        "  \n",
        "  def forward(self, x):\n",
        "    # Usa los parámetros y funciones de activación.\n",
        "    # El valor de retorno debiera ser y = softmax(capa_de_salida).\n",
        "    pass"
      ],
      "execution_count": null,
      "outputs": []
    },
    {
      "cell_type": "markdown",
      "metadata": {
        "id": "Bgf5Xx-34Pa1",
        "colab_type": "text"
      },
      "source": [
        "## 2c) Moviendo los parámetros entre dispositivos"
      ]
    },
    {
      "cell_type": "code",
      "metadata": {
        "id": "2zppplXd4QXa",
        "colab_type": "code",
        "colab": {}
      },
      "source": [
        "# Tu código acá"
      ],
      "execution_count": null,
      "outputs": []
    },
    {
      "cell_type": "markdown",
      "metadata": {
        "id": "swTnKxznL6Ep",
        "colab_type": "text"
      },
      "source": [
        "# Parte 3: Probando tu red con parámetros pre-entrenados para MNIST"
      ]
    },
    {
      "cell_type": "code",
      "metadata": {
        "id": "uOBcElJ7BPcQ",
        "colab_type": "code",
        "colab": {}
      },
      "source": [
        "from torchvision.datasets import MNIST\n",
        "from torchvision.transforms import ToTensor\n",
        "\n",
        "# Descarga y almacena el conjunto de prueba de MNIST.\n",
        "dataset = MNIST('mnist', train=False, transform=ToTensor(), download=True)\n",
        "print('Cantidad total de datos:',len(dataset))"
      ],
      "execution_count": null,
      "outputs": []
    },
    {
      "cell_type": "markdown",
      "metadata": {
        "id": "s6s-z1DNL-J0",
        "colab_type": "text"
      },
      "source": [
        "## 3b) Cargando los parámetros pre-entrenados"
      ]
    },
    {
      "cell_type": "code",
      "metadata": {
        "id": "SLeq3y8FE3SU",
        "colab_type": "code",
        "colab": {}
      },
      "source": [
        "# Tu código acá"
      ],
      "execution_count": null,
      "outputs": []
    },
    {
      "cell_type": "markdown",
      "metadata": {
        "id": "WWRa68ZFMIyr",
        "colab_type": "text"
      },
      "source": [
        "## 3c) Cálcula la predicción de un ejemplo al azar"
      ]
    },
    {
      "cell_type": "code",
      "metadata": {
        "id": "a-SaIzRoMMoc",
        "colab_type": "code",
        "colab": {}
      },
      "source": [
        "# Tu código acá"
      ],
      "execution_count": null,
      "outputs": []
    },
    {
      "cell_type": "markdown",
      "metadata": {
        "id": "i1cZFU8rMNr1",
        "colab_type": "text"
      },
      "source": [
        "## 3d) Pasando todos los ejemplos por la red con un `DataLoader`"
      ]
    },
    {
      "cell_type": "code",
      "metadata": {
        "id": "mL49_0ZAMRd_",
        "colab_type": "code",
        "colab": {}
      },
      "source": [
        "# Acá tu código\n",
        "def calcula_acierto(red, dataset, batch_size=100, device='cuda'):\n",
        "  pass"
      ],
      "execution_count": null,
      "outputs": []
    },
    {
      "cell_type": "markdown",
      "metadata": {
        "id": "EKXqo4FpX2Id",
        "colab_type": "text"
      },
      "source": [
        "### Correccion red"
      ]
    },
    {
      "cell_type": "code",
      "metadata": {
        "id": "itWs4t9feO1u",
        "colab_type": "code",
        "colab": {}
      },
      "source": [
        "from torch.utils.data import Subset\n",
        "indices = corrector.get_test_data(homework=1, question=\"red\", test=1, token=token)\n",
        "test_set = Subset(dataset, indices)"
      ],
      "execution_count": null,
      "outputs": []
    },
    {
      "cell_type": "code",
      "metadata": {
        "id": "JMcid2LRXzrg",
        "colab_type": "code",
        "colab": {}
      },
      "source": [
        "your_network = ...\n",
        "result = ...\n",
        "# Montar el `test_set` en un DataLoader y guardar el resultado en un puro tensor\n",
        "\n",
        "corrector.sumbit(homework=1, question=\"red\", test=1, token=token, answer=result)"
      ],
      "execution_count": null,
      "outputs": []
    },
    {
      "cell_type": "markdown",
      "metadata": {
        "id": "3pgWygWCMYTx",
        "colab_type": "text"
      },
      "source": [
        "## 3e) Opcional: Muestra los casos en donde la red se equivoca"
      ]
    },
    {
      "cell_type": "code",
      "metadata": {
        "id": "FM_eP23XMaTn",
        "colab_type": "code",
        "colab": {}
      },
      "source": [
        "# Acá tu código"
      ],
      "execution_count": null,
      "outputs": []
    },
    {
      "cell_type": "markdown",
      "metadata": {
        "id": "beF870pABHKe",
        "colab_type": "text"
      },
      "source": [
        "## 3d) Opcional: Crea tus propios ejemplos de dígitos para clasificar"
      ]
    },
    {
      "cell_type": "code",
      "metadata": {
        "id": "KOqCJx4LBG1W",
        "colab_type": "code",
        "colab": {}
      },
      "source": [
        "# Acá tu código"
      ],
      "execution_count": null,
      "outputs": []
    }
  ]
}